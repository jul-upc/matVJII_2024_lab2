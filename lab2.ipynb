{
 "cells": [
  {
   "cell_type": "markdown",
   "metadata": {},
   "source": [
    "# Lab 2: Attitude representations and basic functions\n",
    "\n",
    "On this Laboratory session we are going to work with the different attitude representations seen in class. \n",
    "- Exercise 1: 1 point. To be delivered before the end of the session.\n",
    "- Exercise 2: 2 points\n",
    "- Exercise 3: 2.5 points\n",
    "- Exercise 4: 2 points\n",
    "- Exercise 5: 2.5 points\n",
    "  \n",
    "Lab rules:\n",
    "- Always respect the delivery dates\n",
    "- DO NOT MODIFY THE FILE NAMES OR THE FUNCTION NAMES\n",
    "- Verify that your code works before submit\n",
    "- Always upload the files in a .zip with the name structure:   Surname1_Name1_Surname2_Name2.zip\n",
    "\n",
    "Maximum delivery date: Nov 19th before 23:45 p.m.\n",
    "\n",
    "---"
   ]
  },
  {
   "cell_type": "code",
   "execution_count": 1,
   "metadata": {},
   "outputs": [
    {
     "name": "stdout",
     "output_type": "stream",
     "text": [
      "Using matplotlib backend: Qt5Agg\n"
     ]
    }
   ],
   "source": [
    "import numpy as np\n",
    "import math\n",
    "\n",
    "%matplotlib\n",
    "import matplotlib.pyplot as plt\n",
    "from mpl_toolkits.mplot3d import Axes3D\n",
    "from mpl_toolkits.mplot3d.art3d import Poly3DCollection, Line3DCollection"
   ]
  },
  {
   "cell_type": "markdown",
   "metadata": {},
   "source": [
    "## Exercise 1:\n",
    "\n",
    "Create and test a function named Eaa2rotMat that given euler axis/angle information returns the respective rotation matrix"
   ]
  },
  {
   "cell_type": "code",
   "execution_count": null,
   "metadata": {},
   "outputs": [],
   "source": [
    "def Eaa2rotM(angle, axis):\n",
    "    '''\n",
    "    Returns the rotation matrix R able to rotate vectors an angle 'angle' (in rads) about the axis 'axis'\n",
    "    '''\n",
    "\n",
    "    return R"
   ]
  },
  {
   "cell_type": "markdown",
   "metadata": {},
   "source": [
    "Perform and show the result of the next verifications:\n",
    "- Calculate the determinant of the resulting rotation matrix \n"
   ]
  },
  {
   "cell_type": "code",
   "execution_count": null,
   "metadata": {},
   "outputs": [],
   "source": []
  },
  {
   "cell_type": "markdown",
   "metadata": {},
   "source": [
    "\n",
    "- Compare the transpose and the inverse of the resulting matrix"
   ]
  },
  {
   "cell_type": "code",
   "execution_count": null,
   "metadata": {},
   "outputs": [],
   "source": []
  },
  {
   "cell_type": "markdown",
   "metadata": {},
   "source": [
    "\n",
    "- Using the output matrix, transform a vector parallel to the axis of rotation. "
   ]
  },
  {
   "cell_type": "code",
   "execution_count": null,
   "metadata": {},
   "outputs": [],
   "source": []
  },
  {
   "cell_type": "markdown",
   "metadata": {},
   "source": [
    "\n",
    "Comment about how the vector changed\n",
    "\n",
    "    Your answer here\n"
   ]
  },
  {
   "cell_type": "markdown",
   "metadata": {},
   "source": [
    "- Using the output matrix, transform a vector perpendicular to the axis direction. Calculate the scalar product between the original vector (the unrotated vector) and the rotated one."
   ]
  },
  {
   "cell_type": "code",
   "execution_count": null,
   "metadata": {},
   "outputs": [],
   "source": []
  },
  {
   "cell_type": "markdown",
   "metadata": {},
   "source": [
    "What you observe? (Hint: Think about the scalar product definition)\n",
    "    \n",
    "    Your answer here"
   ]
  },
  {
   "cell_type": "markdown",
   "metadata": {},
   "source": [
    "---\n",
    "\n",
    "## Exercise 2\n",
    "\n",
    "The matrix\n"
   ]
  },
  {
   "cell_type": "code",
   "execution_count": null,
   "metadata": {},
   "outputs": [],
   "source": [
    "axisM = np.random.rand(3,100)-0.5\n",
    "\n",
    "print(axisM[:,0:1])\n"
   ]
  },
  {
   "cell_type": "markdown",
   "metadata": {},
   "source": [
    "contains 100 random (non-unit) axis. While"
   ]
  },
  {
   "cell_type": "code",
   "execution_count": null,
   "metadata": {},
   "outputs": [],
   "source": [
    "theta = np.linspace(0,6*math.pi,100)"
   ]
  },
  {
   "cell_type": "markdown",
   "metadata": {},
   "source": [
    "is a vector with orderer angles.\n",
    "\n",
    "Every pair, axisM(:,q) and theta(q) represents the attitude of a body. For each pair (in a for loop) calculate the rotation matrix and store the value of its trace in a vector."
   ]
  },
  {
   "cell_type": "code",
   "execution_count": null,
   "metadata": {},
   "outputs": [],
   "source": []
  },
  {
   "cell_type": "markdown",
   "metadata": {},
   "source": [
    "Make a plot of the vector that you have obtained vs the theta angle. Explain why would you expect this result."
   ]
  },
  {
   "cell_type": "code",
   "execution_count": null,
   "metadata": {},
   "outputs": [],
   "source": []
  },
  {
   "cell_type": "markdown",
   "metadata": {},
   "source": [
    "\n",
    "\n",
    "\n",
    "       Explanation here"
   ]
  },
  {
   "cell_type": "markdown",
   "metadata": {},
   "source": [
    "---\n",
    "\n",
    "## Exercise 3:\n",
    "\n",
    "Create and test a function named rotMat2Eaa that given a rotation matrix returns its principal axis and angle"
   ]
  },
  {
   "cell_type": "code",
   "execution_count": null,
   "metadata": {},
   "outputs": [],
   "source": [
    "def rotMat2Eaa(R):\n",
    "    '''\n",
    "    Returns the principal axis and angle encoded in the rotation matrix R\n",
    "    '''\n",
    "    \n",
    "    return(axis, angle)"
   ]
  },
  {
   "cell_type": "markdown",
   "metadata": {},
   "source": [
    "\n",
    "Perform and show the results of the next verifications:\n",
    "\n",
    "- Use the function on exercise 1 to create a rotation matrix from Euler axis information and ensure that the new function performs the inverse mapping correctly\n"
   ]
  },
  {
   "cell_type": "code",
   "execution_count": null,
   "metadata": {},
   "outputs": [],
   "source": []
  },
  {
   "cell_type": "markdown",
   "metadata": {},
   "source": [
    "\n",
    "- What happens if you try to extract the angle and axis of the next matrices? What they have in common? \n",
    "$$ \\bf{R}_1 = \\begin{pmatrix} 1& 0& 0 \\\\ 0& 1& 0 \\\\ 0 &0 &1 \\end{pmatrix},\\quad \\bf{R}_2 = \\frac{1}{3}\\begin{pmatrix} -1& 2& 2 \\\\ 2& -1& 2 \\\\ 2 &2 &-1 \\end{pmatrix},  \\quad \\bf{R}_3 = \\begin{pmatrix} 0& 0& -1 \\\\ 0& -1& 0 \\\\ -1 &0 &0 \\end{pmatrix} $$\n"
   ]
  },
  {
   "cell_type": "code",
   "execution_count": null,
   "metadata": {},
   "outputs": [],
   "source": []
  },
  {
   "cell_type": "markdown",
   "metadata": {},
   "source": [
    "\n",
    "    Comments here"
   ]
  },
  {
   "cell_type": "markdown",
   "metadata": {},
   "source": [
    "- Reformulate the past function to solve for the past problem, implement it and verify that it works using the past matrices"
   ]
  },
  {
   "cell_type": "code",
   "execution_count": null,
   "metadata": {},
   "outputs": [],
   "source": [
    "def rotMat2Eaa(R):\n",
    "    '''\n",
    "    Returns the principal axis and angle encoded in the rotation matrix R\n",
    "    '''\n",
    "    \n",
    "    return(axis, angle)"
   ]
  },
  {
   "cell_type": "markdown",
   "metadata": {},
   "source": [
    "---\n",
    "## Exercise 4\n",
    "\n",
    "Find the rotation vectors that rotates the cube to reach the next orientations:\n",
    "- The green face points in the positive z direction and the orange face in the -y direction\n",
    "  \n",
    "        r_1 = ( , , )^T\n",
    "\n",
    "- The orange face points in the -z direction and the blue face into the +y direction\n",
    "  \n",
    "        r_2 = ( , , )^T\n",
    "\n",
    "- The red face points on the -x direction and the blue face into the -y direction\n",
    "  \n",
    "        r_3 = ( , , )^T\n",
    "\n",
    "Use the function of the exercise 1 and 3 to transform the orientation of the cube using the next code block to verify your previous answers"
   ]
  },
  {
   "cell_type": "code",
   "execution_count": 4,
   "metadata": {},
   "outputs": [],
   "source": [
    "R = np.array([[1, 0, 0], [0,1,0], [0,0,1]]) # Todo Change R and relate it with r1, r2 and r3.\n",
    "\n",
    "M0 = np.array(\n",
    "[[ -1,  -1, 1],   #Node 0\n",
    "[ -1,   1, 1],   #Node 1\n",
    "[1,   1, 1],   #Node 2\n",
    "    [1,  -1, 1],   #Node 3\n",
    "    [-1,  -1, -1],  #Node 4\n",
    "    [-1,  1, -1], #Node 5\n",
    "    [1,   1, -1],  #Node 6\n",
    "    [1,  -1, -1]], dtype=float).transpose() #Node 7\n",
    "\n",
    "M = R.dot(M0)\n",
    "con = [[0, 1, 2, 3],\n",
    "    [4, 5, 6, 7],\n",
    "    [3, 2, 6, 7],\n",
    "    [0, 1, 5, 4],\n",
    "    [0, 3, 7, 4],\n",
    "    [1, 2, 6, 5]]\n",
    "\n",
    "\n",
    "faces = []\n",
    "\n",
    "for row in con:\n",
    "    faces.append([M[:,row[0]],M[:,row[1]],M[:,row[2]],M[:,row[3]]])\n",
    "\n",
    "    #print(faces)\n",
    "\n",
    "fig = plt.figure()\n",
    "ax = fig.add_subplot(111, projection='3d')\n",
    "\n",
    "facesObj = Poly3DCollection(faces, linewidths=.2, edgecolors='k')\n",
    "facesObj.set_facecolor([(0,0,1,0.9),(0,1,0,0.9),(1,0,0,0.9),(.9,.5,0.13,0.9),(1,1,0,0.9),(0,0,0,0.9)])\n",
    "\n",
    "ax.add_collection3d(facesObj)\n",
    "ax.azim=20\n",
    "ax.elev=20\n",
    "    # Plot the points themselves to force the scaling of the axes\n",
    "ax.set_xlim3d(-2, 2)\n",
    "ax.set_ylim3d(-2, 2)\n",
    "ax.set_zlim3d(-2, 2)\n",
    "ax.set_xlabel(r'$x$')\n",
    "ax.set_ylabel(r'$y$')\n",
    "ax.set_zlabel(r'$z$')\n",
    "fig.show()"
   ]
  },
  {
   "cell_type": "markdown",
   "metadata": {},
   "source": [
    "---\n",
    "# Exercise 5\n",
    "\n",
    "- Create and **test** a function named eAngles2rotM that given a set of euler angles, return its respective rotation matrix."
   ]
  },
  {
   "cell_type": "code",
   "execution_count": null,
   "metadata": {},
   "outputs": [],
   "source": [
    "def eAngles2rotM(yaw,pitch,roll): #psi, theta, phi\n",
    "    '''\n",
    "    Given a set of Euler angles returns the rotation matrix R\n",
    "    '''\n",
    "    \n",
    "    return R"
   ]
  },
  {
   "cell_type": "markdown",
   "metadata": {},
   "source": [
    "For testing purposes at least:\n",
    "\n",
    "- Calculate the determinant of the resulting rotation matrix"
   ]
  },
  {
   "cell_type": "code",
   "execution_count": null,
   "metadata": {},
   "outputs": [],
   "source": []
  },
  {
   "cell_type": "markdown",
   "metadata": {},
   "source": [
    "- Compare the transpose and the inverse of the resulting matrix"
   ]
  },
  {
   "cell_type": "code",
   "execution_count": null,
   "metadata": {},
   "outputs": [],
   "source": []
  },
  {
   "cell_type": "markdown",
   "metadata": {},
   "source": [
    "\n",
    "- Create also a function named rotM2eAngles that given a rotation matrix return its respective euler angles. \n"
   ]
  },
  {
   "cell_type": "code",
   "execution_count": 5,
   "metadata": {},
   "outputs": [],
   "source": [
    "def rotM2eAngles(R): #psi, theta, phi\n",
    "    '''\n",
    "    Given a rotation matrix R returns a set of Euler angles \n",
    "    '''\n",
    "    \n",
    "    return (yaw, pitch, roll)"
   ]
  },
  {
   "cell_type": "markdown",
   "metadata": {},
   "source": [
    "For testing purposes at least:\n",
    "- Use the first function of this exercise to create a rotation matrix from a set of euler angles and ensure that the new function performs the inverse mapping correctly"
   ]
  },
  {
   "cell_type": "code",
   "execution_count": null,
   "metadata": {},
   "outputs": [],
   "source": []
  },
  {
   "cell_type": "markdown",
   "metadata": {},
   "source": [
    "- Ensure that the case for which theta = pi/2 + k*pi with k=1,2,.. is well implemented\n"
   ]
  },
  {
   "cell_type": "code",
   "execution_count": null,
   "metadata": {},
   "outputs": [],
   "source": []
  }
 ],
 "metadata": {
  "kernelspec": {
   "display_name": "Python 3.6.9 64-bit",
   "language": "python",
   "name": "python3"
  },
  "language_info": {
   "codemirror_mode": {
    "name": "ipython",
    "version": 3
   },
   "file_extension": ".py",
   "mimetype": "text/x-python",
   "name": "python",
   "nbconvert_exporter": "python",
   "pygments_lexer": "ipython3",
   "version": "3.6.9"
  },
  "orig_nbformat": 4,
  "vscode": {
   "interpreter": {
    "hash": "31f2aee4e71d21fbe5cf8b01ff0e069b9275f58929596ceb00d14d90e3e16cd6"
   }
  }
 },
 "nbformat": 4,
 "nbformat_minor": 2
}
